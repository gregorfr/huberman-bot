{
 "cells": [
  {
   "cell_type": "markdown",
   "metadata": {},
   "source": [
    "Different code cells for different data processing"
   ]
  },
  {
   "cell_type": "code",
   "execution_count": 4,
   "metadata": {},
   "outputs": [],
   "source": [
    "import random\n",
    "from icalendar import Calendar, Event\n",
    "from datetime import datetime, timedelta\n",
    "import pytz\n",
    "\n",
    "# Function to generate random protocol instructions\n",
    "def generate_protocol(file_path):\n",
    "    def generate_instruction():\n",
    "        x = random.randint(1, 5)  # Random number between 1-5\n",
    "        z = random.randint(1, 120)  # Random number between 1-120\n",
    "        y = random.choice([\"jumping jacks\", \"push-ups\", \"sit-ups\", \"squats\", \"lunges\", \"sunlight viewing\", \"doomscrolling\"])  # Random activity\n",
    "        return f\"{x} times a week, for {z} minutes, do {y}\"\n",
    "\n",
    "    with open(file_path, 'w') as file:\n",
    "        for _ in range(5):  # Generate 5 instructions for each protocol\n",
    "            instruction = generate_instruction()\n",
    "            file.write(instruction + '\\n')"
   ]
  },
  {
   "cell_type": "code",
   "execution_count": 5,
   "metadata": {},
   "outputs": [],
   "source": [
    "for i in range(1, int(input(\"Enter amount of Protocols:\"))+1):\n",
    "    protocol_file_path = f'Data/random_protocol{i}.txt'\n",
    "    generate_protocol(protocol_file_path)"
   ]
  },
  {
   "cell_type": "code",
   "execution_count": 6,
   "metadata": {},
   "outputs": [],
   "source": [
    "import math\n",
    "import re\n",
    "\n",
    "def round_up_to_ten(n):\n",
    "    \"\"\"Round up a number to the nearest ten.\"\"\"\n",
    "    return math.ceil(n / 10) * 10\n",
    "\n",
    "def process_task_line(line):\n",
    "    \"\"\"Process a line from the file and return a list of tasks.\"\"\"\n",
    "    # Use regular expression to extract the numbers and task name\n",
    "    match = re.match(r\"(\\d+) times a week, for (\\d+) minutes, do (.+)\", line.strip())\n",
    "    if not match:\n",
    "        return []\n",
    "\n",
    "    frequency = int(match.group(1))\n",
    "    duration = int(match.group(2))\n",
    "    task_name = match.group(3).strip()\n",
    "\n",
    "    # Round up the duration and replicate the task\n",
    "    rounded_duration = round_up_to_ten(duration)\n",
    "    return [(rounded_duration, task_name) for _ in range(frequency)]\n",
    "\n",
    "def read_tasks_from_file(file_path):\n",
    "    \"\"\"Read tasks from a file and return an array of tasks.\"\"\"\n",
    "    tasks = []\n",
    "    with open(file_path, 'r') as file:\n",
    "        for line in file:\n",
    "            tasks.extend(process_task_line(line))\n",
    "    return tasks\n",
    "\n",
    "\n"
   ]
  },
  {
   "cell_type": "code",
   "execution_count": 8,
   "metadata": {},
   "outputs": [
    {
     "name": "stdout",
     "output_type": "stream",
     "text": [
      "[(20, 'sunlight viewing'), (50, 'jumping jacks'), (50, 'jumping jacks'), (50, 'jumping jacks'), (50, 'jumping jacks'), (20, 'push-ups'), (20, 'push-ups'), (20, 'push-ups'), (20, 'push-ups'), (70, 'squats'), (70, 'squats'), (70, 'squats'), (70, 'squats'), (70, 'squats'), (110, 'jumping jacks'), (110, 'jumping jacks'), (110, 'jumping jacks')]\n"
     ]
    }
   ],
   "source": [
    "file_path = 'Data/random_protocol1.txt'  # Protocol that gets processed\n",
    "tasks_array = read_tasks_from_file(file_path)\n",
    "print(tasks_array)\n"
   ]
  },
  {
   "cell_type": "markdown",
   "metadata": {},
   "source": [
    "Only take in reoccuring schedule in calendar\n"
   ]
  },
  {
   "cell_type": "code",
   "execution_count": 9,
   "metadata": {},
   "outputs": [
    {
     "name": "stdout",
     "output_type": "stream",
     "text": [
      "[[1 1 1 1 1 1 1 1 1 1 1 1 1 1 1 1 1 1 1 1 1 1 1 1 1 1 1 1 1 1 1 1 1 1 1 1\n",
      "  1 1 1 1 1 1 1 1 1 1 1 1 0 0 0 0 0 0 0 0 0 0 0 0 0 0 0 0 0 0 0 0 0 0 0 0\n",
      "  0 0 0 0 0 0 0 0 0 0 0 0]\n",
      " [1 1 1 1 1 1 1 1 1 1 1 1 1 1 1 1 1 1 1 1 1 1 1 1 1 1 1 1 1 1 1 1 1 1 1 1\n",
      "  1 1 1 1 1 1 1 1 1 1 1 1 1 1 1 1 1 1 1 1 1 1 1 1 0 0 0 0 0 0 0 0 0 0 0 0\n",
      "  0 0 0 0 0 0 0 0 0 0 0 0]\n",
      " [0 0 0 0 0 0 0 0 0 0 0 0 0 0 0 0 0 0 0 0 0 0 0 0 0 0 0 0 0 0 0 0 0 0 0 0\n",
      "  0 0 0 0 0 0 0 0 0 0 0 0 0 0 0 0 0 0 0 0 0 0 0 0 0 0 0 0 0 0 0 0 0 0 0 0\n",
      "  0 0 0 0 0 0 0 0 0 0 0 0]\n",
      " [0 0 0 0 0 0 0 0 0 0 0 0 0 0 0 0 0 0 0 0 0 0 0 0 0 0 0 0 0 0 0 0 0 0 0 0\n",
      "  0 0 0 0 0 0 0 0 0 0 0 0 0 0 0 0 0 0 0 0 0 0 0 0 0 0 0 0 0 0 0 0 0 0 0 0\n",
      "  0 0 0 0 0 0 0 0 0 0 0 0]\n",
      " [0 0 0 0 0 0 0 0 0 0 0 0 0 0 0 0 0 0 0 0 0 0 0 0 0 0 0 0 0 0 0 0 0 0 0 0\n",
      "  0 0 0 0 0 0 0 0 0 0 0 0 0 0 0 0 0 0 0 0 0 0 0 0 0 0 0 0 0 0 0 0 0 0 0 0\n",
      "  0 0 0 0 0 0 0 0 0 0 0 0]\n",
      " [0 0 0 0 0 0 0 0 0 0 0 0 0 0 0 0 0 0 0 0 0 0 0 0 0 0 0 0 0 0 0 0 0 0 0 0\n",
      "  0 0 0 0 0 0 0 0 0 0 0 0 0 0 0 0 0 0 0 0 0 0 0 0 0 0 0 0 0 0 0 0 0 0 0 0\n",
      "  0 0 0 0 0 0 0 0 0 0 0 0]\n",
      " [0 0 0 0 0 0 0 0 0 0 0 0 0 0 0 0 0 0 0 0 0 0 0 0 0 0 0 0 0 0 0 0 0 0 0 0\n",
      "  0 0 0 0 0 0 0 0 0 0 0 0 0 0 0 0 0 0 0 0 0 0 0 0 0 0 0 0 0 0 0 0 0 0 0 0\n",
      "  0 0 0 0 0 0 0 0 0 0 0 0]]\n"
     ]
    }
   ],
   "source": [
    "from icalendar import Calendar, Event\n",
    "import datetime\n",
    "import numpy as np\n",
    "import re\n",
    "\n",
    "def parse_ical_file(file_path):\n",
    "    with open(file_path, 'r') as f:\n",
    "        ical_content = f.read()\n",
    "    return Calendar.from_ical(ical_content)\n",
    "\n",
    "def is_recurring(event):\n",
    "    return 'rrule' in event or 'rdate' in event\n",
    "\n",
    "def is_within_week(event, week_start):\n",
    "    event_start = event.get('dtstart').dt\n",
    "    event_end = event.get('dtend').dt\n",
    "    week_end = week_start + datetime.timedelta(days=7)\n",
    "    return week_start <= event_start.date() < week_end\n",
    "\n",
    "def process_event(event, week_start, calendar_matrix):\n",
    "    event_start = event.get('dtstart').dt\n",
    "    event_end = event.get('dtend').dt\n",
    "\n",
    "    # Adjust time to 8:00-22:00 window\n",
    "    start_time = max(event_start.time(), datetime.time(8, 0))\n",
    "    end_time = min(event_end.time(), datetime.time(22, 0))\n",
    "\n",
    "    # Calculate day and slot indices\n",
    "    day_index = (event_start.date() - week_start).days\n",
    "    start_slot = ((start_time.hour - 8) * 6) + (start_time.minute // 10)\n",
    "    end_slot = ((end_time.hour - 8) * 6) + (end_time.minute // 10)\n",
    "\n",
    "    # Mark slots as occupied\n",
    "    for slot in range(start_slot, end_slot):\n",
    "        if 0 <= day_index < 7 and 0 <= slot < 84:\n",
    "            calendar_matrix[day_index][slot] = 1\n",
    "\n",
    "def ical_to_matrix(ical_file, week_start):\n",
    "    cal = parse_ical_file(ical_file)\n",
    "    calendar_matrix = np.zeros((7, 84), dtype=int)\n",
    "\n",
    "    for component in cal.walk():\n",
    "        if isinstance(component, Event):\n",
    "            if is_recurring(component) and is_within_week(component, week_start):\n",
    "                process_event(component, week_start, calendar_matrix)\n",
    "\n",
    "    return calendar_matrix\n",
    "\n",
    "# Example usage\n",
    "ical_file = 'Data/calendar.ics'\n",
    "week_start = datetime.date(2023, 11, 20)  # Example week start\n",
    "matrix = ical_to_matrix(ical_file, week_start)\n",
    "print(matrix)"
   ]
  }
 ],
 "metadata": {
  "kernelspec": {
   "display_name": "Elysion",
   "language": "python",
   "name": "python3"
  },
  "language_info": {
   "codemirror_mode": {
    "name": "ipython",
    "version": 3
   },
   "file_extension": ".py",
   "mimetype": "text/x-python",
   "name": "python",
   "nbconvert_exporter": "python",
   "pygments_lexer": "ipython3",
   "version": "3.11.5"
  },
  "orig_nbformat": 4
 },
 "nbformat": 4,
 "nbformat_minor": 2
}
